{
 "cells": [
  {
   "cell_type": "code",
   "execution_count": 1,
   "metadata": {
    "collapsed": true
   },
   "outputs": [],
   "source": [
    "from __future__ import division\n",
    "from pylab import *\n",
    "\n",
    "def heronStep(y, x):\n",
    "    \"\"\"Perform one step of Heron's method for sqrt(y) with guess x.\"\"\"\n",
    "    return 0.5*(x + y/x)\n",
    "\n",
    "def heronArray(y, x0, n):\n",
    "    \"\"\"Perform n steps of Heron's method for sqrt(y) with initial guess x0.\n",
    "    Return the array of successive approximations [x0, x1, ..., xn].\"\"\"\n",
    "    x = zeros(n+1)\n",
    "    x[0] = x0\n",
    "    for k in range(n):\n",
    "        x[k+1] = heronStep(y, x[k])\n",
    "    return x\n",
    "\n",
    "def plotLogError(y, x0, n):\n",
    "    \"\"\"Plot the log absolute error of Heron's method.\"\"\"\n",
    "    x = heronArray(y, x0, n) # Heron's method approximations for sqrt(y)\n",
    "    e = x - sqrt(y) # error\n",
    "    semilogy(abs(e)) # plot abs(e) using a log scale for the y-axis"
   ]
  },
  {
   "cell_type": "code",
   "execution_count": 5,
   "metadata": {
    "collapsed": false
   },
   "outputs": [],
   "source": [
    "plotLogError(2,1,10)"
   ]
  },
  {
   "cell_type": "code",
   "execution_count": null,
   "metadata": {
    "collapsed": true
   },
   "outputs": [],
   "source": []
  }
 ],
 "metadata": {
  "kernelspec": {
   "display_name": "Python 3",
   "language": "python",
   "name": "python3"
  },
  "language_info": {
   "codemirror_mode": {
    "name": "ipython",
    "version": 3
   },
   "file_extension": ".py",
   "mimetype": "text/x-python",
   "name": "python",
   "nbconvert_exporter": "python",
   "pygments_lexer": "ipython3",
   "version": "3.6.0"
  }
 },
 "nbformat": 4,
 "nbformat_minor": 2
}
