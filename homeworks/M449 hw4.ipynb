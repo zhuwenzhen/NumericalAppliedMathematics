{
 "cells": [
  {
   "cell_type": "markdown",
   "metadata": {},
   "source": [
    "## Part II. Programming"
   ]
  },
  {
   "cell_type": "code",
   "execution_count": 1,
   "metadata": {
    "collapsed": true
   },
   "outputs": [],
   "source": [
    "from __future__ import division\n",
    "from pylab import *\n",
    "\n",
    "def lu(A):\n",
    "    \"\"\"LU decomposition of A without pivoting (Doolittle's method).\"\"\"\n",
    "    n = shape(A)[0]\n",
    "    L = eye(n)\n",
    "    U = zeros([n,n])\n",
    "    for k in range(n):\n",
    "        U[k,k:] = A[k,k:] - dot(L[k,:k], U[:k,k:])        \n",
    "        L[k+1:,k] = (A[k+1:,k] - dot(L[k+1:,:k], U[:k,k]))/U[k,k]\n",
    "    return L, U"
   ]
  },
  {
   "cell_type": "markdown",
   "metadata": {},
   "source": [
    "### Problem 2\n",
    "a. What is the smallest k ∈ N where this problem occurs for ε = 10^−k?"
   ]
  },
  {
   "cell_type": "markdown",
   "metadata": {},
   "source": [
    "k = 16, problem occurs: "
   ]
  },
  {
   "cell_type": "code",
   "execution_count": 2,
   "metadata": {
    "collapsed": true
   },
   "outputs": [],
   "source": [
    "def test(eps):\n",
    "    A = array([[eps,1],[1,1]])\n",
    "    [L, U] = lu(A)\n",
    "    return dot(L, U)"
   ]
  },
  {
   "cell_type": "code",
   "execution_count": 3,
   "metadata": {},
   "outputs": [
    {
     "data": {
      "text/plain": [
       "array([[  1.00000000e-15,   1.00000000e+00],\n",
       "       [  1.00000000e+00,   1.00000000e+00]])"
      ]
     },
     "execution_count": 3,
     "metadata": {},
     "output_type": "execute_result"
    }
   ],
   "source": [
    "# when k = 15, the result is still correct\n",
    "test(1e-15)"
   ]
  },
  {
   "cell_type": "code",
   "execution_count": 4,
   "metadata": {},
   "outputs": [
    {
     "data": {
      "text/plain": [
       "array([[  1.00000000e-16,   1.00000000e+00],\n",
       "       [  1.00000000e+00,   0.00000000e+00]])"
      ]
     },
     "execution_count": 4,
     "metadata": {},
     "output_type": "execute_result"
    }
   ],
   "source": [
    "# when k = 16, problem occurs\n",
    "test(1e-16) "
   ]
  },
  {
   "cell_type": "markdown",
   "metadata": {},
   "source": [
    "b. Verify that this does not occur for the pivoted matrix P A =\n",
    "using the value of  obtained in part a."
   ]
  },
  {
   "cell_type": "code",
   "execution_count": 5,
   "metadata": {},
   "outputs": [
    {
     "data": {
      "text/plain": [
       "array([[  1.00000000e+00,   1.00000000e+00],\n",
       "       [  1.00000000e-16,   1.00000000e+00]])"
      ]
     },
     "execution_count": 5,
     "metadata": {},
     "output_type": "execute_result"
    }
   ],
   "source": [
    "A = array([[1e-16,1],[1,1]])\n",
    "# swapping A's rows\n",
    "PA = A[[1,0]]\n",
    "# LU decomposition\n",
    "L, U = lu(PA)\n",
    "# check \n",
    "dot(L, U)"
   ]
  },
  {
   "cell_type": "markdown",
   "metadata": {},
   "source": [
    "The result is correct this time"
   ]
  },
  {
   "cell_type": "markdown",
   "metadata": {},
   "source": [
    "### Problem 3\n",
    "In hw4.py, the function uSolve solves the upper triangular system ```U x = b``` using back substitution. (The only tricky part here is iterating backwards, which is done using the reversed function. As with the function lu, notice the use of dot to compute the sum as a dot product.)\n",
    "Similarly the function lSolve is meant to solve the lower triangular system ```Lx = b``` using forward substitution—but it is only partly implemented. Finish the implementation by replacing the dummy line\n",
    "```\n",
    "    x[i] = 0 # replace this line\n",
    "```\n",
    "in the main loop with the appropriate expression for ```x[i]```. (Do not assume that L is unit lower triangular.) To test your implementation, run the following commands and print your output:"
   ]
  },
  {
   "cell_type": "code",
   "execution_count": 6,
   "metadata": {
    "collapsed": true
   },
   "outputs": [],
   "source": [
    "def uSolve(U,b):\n",
    "    \"\"\"Solve an upper triangular system Ux = b by back substitution.\"\"\"\n",
    "    n = size(b)\n",
    "    x = zeros(n)\n",
    "    # the reversed() function lets you iterate backwards over a list\n",
    "    for i in reversed(range(n)):      \n",
    "        x[i] = (b[i] - dot(U[i,i+1:], x[i+1:]))/U[i,i]\n",
    "    return x\n",
    "    \n",
    "def lSolve(L,b):\n",
    "    \"\"\"Solve a lower triangular system Lx = b by forward substitution.\"\"\"\n",
    "    n = size(b)\n",
    "    x = zeros(n)\n",
    "    for i in range(n):  \n",
    "        # x[i] = 0 # replace this line\n",
    "        x[i] = (b[i] - dot(L[i,:i+1],x[:i+1]))/L[i,i]  \n",
    "    return x"
   ]
  },
  {
   "cell_type": "code",
   "execution_count": 7,
   "metadata": {},
   "outputs": [
    {
     "data": {
      "text/plain": [
       "array([ 1.05480036,  0.3342922 , -1.98575009])"
      ]
     },
     "execution_count": 7,
     "metadata": {},
     "output_type": "execute_result"
    }
   ],
   "source": [
    "seed(449)\n",
    "L = tril(rand(3,3))\n",
    "b = rand(3)\n",
    "lSolve(L,b)"
   ]
  },
  {
   "cell_type": "markdown",
   "metadata": {},
   "source": [
    "### Problem 4\n",
    "Create a function luSolve(L,U,b) which solves the system LUx = b using forward and back substitution."
   ]
  },
  {
   "cell_type": "code",
   "execution_count": 8,
   "metadata": {
    "collapsed": true
   },
   "outputs": [],
   "source": [
    "def luSolve(L, U, b):\n",
    "    n = size(b)\n",
    "    x = zeros(n)\n",
    "    y = zeros(n)\n",
    "    y = lSolve(L, b)\n",
    "    x = uSolve(U, y)\n",
    "    return x"
   ]
  },
  {
   "cell_type": "code",
   "execution_count": 9,
   "metadata": {},
   "outputs": [
    {
     "data": {
      "text/plain": [
       "array([-0.38645093,  0.60217606,  0.59442979])"
      ]
     },
     "execution_count": 9,
     "metadata": {},
     "output_type": "execute_result"
    }
   ],
   "source": [
    "seed(449)\n",
    "A = rand(3,3)\n",
    "b = rand(3)\n",
    "L,U = lu(A)\n",
    "luSolve(L,U,b)"
   ]
  }
 ],
 "metadata": {
  "kernelspec": {
   "display_name": "Python 3",
   "language": "python",
   "name": "python3"
  },
  "language_info": {
   "codemirror_mode": {
    "name": "ipython",
    "version": 3
   },
   "file_extension": ".py",
   "mimetype": "text/x-python",
   "name": "python",
   "nbconvert_exporter": "python",
   "pygments_lexer": "ipython3",
   "version": "3.6.1"
  }
 },
 "nbformat": 4,
 "nbformat_minor": 1
}
